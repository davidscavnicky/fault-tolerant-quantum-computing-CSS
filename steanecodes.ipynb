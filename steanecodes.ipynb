{
 "cells": [
  {
   "cell_type": "code",
   "execution_count": null,
   "id": "fc43f155",
   "metadata": {},
   "outputs": [
    {
     "name": "stdout",
     "output_type": "stream",
     "text": [
      "Stabilizers:\n",
      "IIIXXXX\n",
      "IXXIXXI\n",
      "XXIXXII\n",
      "IIIZZZZ\n",
      "IZZIZZI\n",
      "ZZIZZII\n",
      "\n",
      "Commutation check:\n",
      "Stabilizer 1 and 2 commute: True\n",
      "Stabilizer 1 and 3 commute: True\n",
      "Stabilizer 1 and 4 commute: True\n",
      "Stabilizer 1 and 5 commute: True\n",
      "Stabilizer 1 and 6 commute: True\n",
      "Stabilizer 2 and 3 commute: True\n",
      "Stabilizer 2 and 4 commute: True\n",
      "Stabilizer 2 and 5 commute: True\n",
      "Stabilizer 2 and 6 commute: True\n",
      "Stabilizer 3 and 4 commute: True\n",
      "Stabilizer 3 and 5 commute: True\n",
      "Stabilizer 3 and 6 commute: True\n",
      "Stabilizer 4 and 5 commute: True\n",
      "Stabilizer 4 and 6 commute: True\n",
      "Stabilizer 5 and 6 commute: True\n"
     ]
    }
   ],
   "source": [
    "from qiskit.quantum_info import *  # Import all quantum information tools\n",
    "from qiskit.quantum_info import PauliList  # Use PauliList instead of StabilizerTable\n",
    "import numpy as np\n",
    "\n",
    "\"\"\" Defines the Steane code parity-check matrix.\n",
    "Creates X- and Z-type stabilizers from it.\n",
    "Constructs the Qiskit StabilizerTable from those stabilizers.\n",
    "Prints each stabilizer and checks pairwise commutation. \"\"\"\n",
    "\n",
    "# Define the parity check matrix H (for Steane code)\n",
    "H = np.array([\n",
    "    [1, 1, 1, 1, 0, 0, 0],\n",
    "    [0, 1, 1, 0, 1, 1, 0],\n",
    "    [0, 0, 1, 1, 0, 1, 1]\n",
    "])\n",
    "\n",
    "# Function to convert binary row into Pauli string\n",
    "def make_stabilizer(row, pauli_type='X'):\n",
    "    n = len(row)\n",
    "    z = [0] * n\n",
    "    x = [0] * n\n",
    "    for i in range(n):\n",
    "        if row[i] == 1:\n",
    "            if pauli_type == 'X':\n",
    "                x[i] = 1\n",
    "            elif pauli_type == 'Z':\n",
    "                z[i] = 1\n",
    "    return Pauli((z, x))\n",
    "\n",
    "# Generate stabilizers\n",
    "x_stabilizers = [make_stabilizer(row, 'X') for row in H]\n",
    "z_stabilizers = [make_stabilizer(row, 'Z') for row in H]\n",
    "\n",
    "# Combine all stabilizers\n",
    "all_stabilizers = x_stabilizers + z_stabilizers\n",
    "\n",
    "# Create stabilizer table using PauliList\n",
    "stab_table = PauliList(all_stabilizers)\n",
    "\n",
    "# Print all stabilizers\n",
    "print(\"Stabilizers:\")\n",
    "for stab in stab_table:\n",
    "    print(stab)\n",
    "\n",
    "# Check commutation\n",
    "print(\"\\nCommutation check:\")\n",
    "n = len(all_stabilizers)\n",
    "for i in range(n):\n",
    "    for j in range(i + 1, n):\n",
    "        commute = stab_table[i].commutes(stab_table[j])  # Check commutation using PauliList\n",
    "        print(f\"Stabilizer {i+1} and {j+1} commute: {commute}\")\n"
   ]
  },
  {
   "cell_type": "code",
   "execution_count": null,
   "id": "6b6ce93c",
   "metadata": {},
   "outputs": [
    {
     "name": "stdout",
     "output_type": "stream",
     "text": [
      "Multiplication: XX * ZZ =  -YY\n",
      "Addition: XX + ZZ =  +XXZZ\n",
      "XX and ZZ commute:  True\n"
     ]
    }
   ],
   "source": [
    "import stim\n",
    "\n",
    "\"\"\" Stim, a stabilizer simulator developed by Google Quantum AI, \n",
    "is a powerful tool for simulating quantum circuits and analyzing their properties. \n",
    "It provides a Python interface for working with stabilizers, which are essential in quantum \n",
    "error correction and fault-tolerant quantum computing.\n",
    " \"\"\"\n",
    "\n",
    "xx = stim.PauliString(\"+XX\")\n",
    "zz = stim.PauliString(\"+ZZ\")\n",
    "\n",
    "# Pauli strings can be multiplied\n",
    "mul_res = xx * zz\n",
    "print(\"Multiplication: XX * ZZ = \", mul_res)\n",
    "\n",
    "# Pauli strings can be concatenated\n",
    "add_res = xx + zz\n",
    "print(\"Addition: XX + ZZ = \", add_res)\n",
    "\n",
    "# We can check if 2 Pauli strings commute\n",
    "print(\"XX and ZZ commute: \", xx.commutes(zz))"
   ]
  },
  {
   "cell_type": "code",
   "execution_count": 11,
   "id": "321aac51",
   "metadata": {},
   "outputs": [
    {
     "data": {
      "text/plain": [
       "[True, True, True]"
      ]
     },
     "execution_count": 11,
     "metadata": {},
     "output_type": "execute_result"
    }
   ],
   "source": [
    "# Define a Tableau simulator\n",
    "simulator = stim.TableauSimulator()\n",
    "\n",
    "# Prepare GHZ state\n",
    "simulator.h(0)\n",
    "simulator.cx(0,1)\n",
    "simulator.cx(0,2)\n",
    "simulator.measure_many(0,1,2)"
   ]
  },
  {
   "cell_type": "code",
   "execution_count": 17,
   "id": "65fbd6cf",
   "metadata": {},
   "outputs": [
    {
     "name": "stdout",
     "output_type": "stream",
     "text": [
      "H 0\n",
      "CX 0 1 0 2\n",
      "M 0 1 2\n"
     ]
    },
    {
     "data": {
      "text/html": [
       "<pre>q0: -H-@-@-M:rec[0]-\n",
       "       | |\n",
       "q1: ---X-|-M:rec[1]-\n",
       "         |\n",
       "q2: -----X-M:rec[2]-</pre>"
      ],
      "text/plain": [
       "q0: -H-@-@-M:rec[0]-\n",
       "       | |\n",
       "q1: ---X-|-M:rec[1]-\n",
       "         |\n",
       "q2: -----X-M:rec[2]-"
      ]
     },
     "execution_count": 17,
     "metadata": {},
     "output_type": "execute_result"
    }
   ],
   "source": [
    "c = stim.Circuit()\n",
    "\n",
    "c.append(\"H\", 0)\n",
    "c.append(\"CNOT\", [0,1,0,2])\n",
    "c.append(\"M\", [0,1,2])\n",
    "\n",
    "print(c)\n",
    "c.diagram('timeline-text')\n",
    "\n"
   ]
  },
  {
   "cell_type": "code",
   "execution_count": null,
   "id": "2f189197",
   "metadata": {},
   "outputs": [
    {
     "data": {
      "text/plain": [
       "[True, True, True]"
      ]
     },
     "execution_count": 21,
     "metadata": {},
     "output_type": "execute_result"
    }
   ],
   "source": [
    "sampler = c.compile_sampler()\n",
    "samples = sampler.sample(shots=10)\n",
    "\n",
    "samples"
   ]
  },
  {
   "cell_type": "code",
   "execution_count": 22,
   "id": "64edab9d",
   "metadata": {},
   "outputs": [
    {
     "data": {
      "text/plain": [
       "[True, True, True]"
      ]
     },
     "execution_count": 22,
     "metadata": {},
     "output_type": "execute_result"
    }
   ],
   "source": [
    "\n",
    "# Reset all qubits\n",
    "simulator.reset(0,1,2)\n",
    "simulator.do(c)\n",
    "# All measurements are stored in the measurement record of the Tableau simulator\n",
    "simulator.current_measurement_record()[-3::]"
   ]
  },
  {
   "cell_type": "code",
   "execution_count": 24,
   "id": "056f250b",
   "metadata": {},
   "outputs": [
    {
     "name": "stdout",
     "output_type": "stream",
     "text": [
      "Mapped stabilizers with logical X:\n",
      "+XXXX___\n",
      "+_XX_XX_\n",
      "+___XXXX\n",
      "-ZZZZ___\n",
      "+_ZZ_ZZ_\n",
      "+___ZZZZ\n",
      "\n",
      "Mapped stabilizers with logical Z:\n",
      "-XXXX___\n",
      "+_XX_XX_\n",
      "+___XXXX\n",
      "+ZZZZ___\n",
      "+_ZZ_ZZ_\n",
      "+___ZZZZ\n",
      "\n",
      "Logical X commutes with stabilizers:\n",
      "Commutes with +XXXX___: True\n",
      "Commutes with +_XX_XX_: True\n",
      "Commutes with +___XXXX: True\n",
      "Commutes with +ZZZZ___: False\n",
      "Commutes with +_ZZ_ZZ_: True\n",
      "Commutes with +___ZZZZ: True\n",
      "\n",
      "Logical Z commutes with stabilizers:\n",
      "Commutes with +XXXX___: False\n",
      "Commutes with +_XX_XX_: True\n",
      "Commutes with +___XXXX: True\n",
      "Commutes with +ZZZZ___: True\n",
      "Commutes with +_ZZ_ZZ_: True\n",
      "Commutes with +___ZZZZ: True\n",
      "\n",
      "Logical X and Z anti-commute: True\n"
     ]
    }
   ],
   "source": [
    "from stim import PauliString\n",
    "\n",
    "# Define Steane code stabilizers\n",
    "steane_stabilizer = [\n",
    "    PauliString(\"XXXXIII\"),\n",
    "    PauliString(\"IXXIXXI\"),\n",
    "    PauliString(\"IIIXXXX\"),\n",
    "    PauliString(\"ZZZZIII\"),\n",
    "    PauliString(\"IZZIZZI\"),\n",
    "    PauliString(\"IIIZZZZ\"),\n",
    "]\n",
    "\n",
    "# Define logical operators for the Steane code\n",
    "log_x = PauliString(\"XIIIIII\")  # Logical X operator\n",
    "log_z = PauliString(\"ZIIIIII\")  # Logical Z operator\n",
    "\n",
    "# Part b: Verify that logical operators map stabilizers to themselves\n",
    "mapped_stabilizers_x = [log_x * s * log_x for s in steane_stabilizer]\n",
    "mapped_stabilizers_z = [log_z * s * log_z for s in steane_stabilizer]\n",
    "\n",
    "print(\"Mapped stabilizers with logical X:\")\n",
    "for s in mapped_stabilizers_x:\n",
    "    print(s)\n",
    "\n",
    "print(\"\\nMapped stabilizers with logical Z:\")\n",
    "for s in mapped_stabilizers_z:\n",
    "    print(s)\n",
    "\n",
    "# Part c: Verify commutation with stabilizers and anti-commutation between logical operators\n",
    "print(\"\\nLogical X commutes with stabilizers:\")\n",
    "for s in steane_stabilizer:\n",
    "    print(f\"Commutes with {s}: {log_x.commutes(s)}\")\n",
    "\n",
    "print(\"\\nLogical Z commutes with stabilizers:\")\n",
    "for s in steane_stabilizer:\n",
    "    print(f\"Commutes with {s}: {log_z.commutes(s)}\")\n",
    "\n",
    "# Verify anti-commutation between logical operators\n",
    "anti_commute = log_x.commutes(log_z)\n",
    "print(\"\\nLogical X and Z anti-commute:\", not anti_commute)"
   ]
  },
  {
   "cell_type": "code",
   "execution_count": 25,
   "id": "bd13706a",
   "metadata": {},
   "outputs": [],
   "source": [
    "def encoding_circuit(log_qb_idx: int = 0) -> stim.Circuit:\n",
    "  \"\"\"Encoding scheme proposed by Goto 2015: https://www.nature.com/articles/srep19578\n",
    "  To prepare the logical Steane qubit in state |0>_L.\n",
    "  \n",
    "  The qubit index allows shifting the indices so that we can prepare multiple logical qubits\n",
    "  \"\"\"\n",
    "  c = stim.Circuit()\n",
    "  # shift registers to target logical qubit with given index\n",
    "  s = log_qb_idx * 8\n",
    "  \n",
    "  c.append(\"H\", [s, 4+s, 6+s])\n",
    "  c.append(\"CNOT\", [s, 1+s])\n",
    "  c.append(\"CNOT\", [4+s, 5+s])\n",
    "  c.append(\"CNOT\", [6+s, 3+s])\n",
    "  c.append(\"CNOT\", [6+s, 5+s])\n",
    "  c.append(\"CNOT\", [4+s, 2+s])\n",
    "  c.append(\"CNOT\", [0+s, 3+s])\n",
    "  c.append(\"CNOT\", [4+s, 1+s])\n",
    "  c.append(\"CNOT\", [3+s, 2+s])\n",
    "  \n",
    "  # Entangle with ancilla qubit and measure logical Pauli-Z\n",
    "  c.append(\"CNOT\", [1+s, 7+s])\n",
    "  c.append(\"CNOT\", [3+s, 7+s])\n",
    "  c.append(\"CNOT\", [5+s, 7+s])\n",
    "  c.append(\"M\", [7+s])\n",
    "\n",
    "  return c"
   ]
  },
  {
   "cell_type": "code",
   "execution_count": 26,
   "id": "58b76912",
   "metadata": {},
   "outputs": [
    {
     "data": {
      "image/svg+xml": [
       "<svg viewBox=\"0 0 800 608\"  version=\"1.1\" xmlns=\"http://www.w3.org/2000/svg\">\n",
       "<g id=\"qubit_lines\">\n",
       "<path id=\"qubit_line:0\" d=\"M64,64 L768,64 \" stroke=\"black\"/>\n",
       "<text dominant-baseline=\"central\" text-anchor=\"end\" font-family=\"monospace\" font-size=\"12\" x=\"64\" y=\"64\">q0</text>\n",
       "<path id=\"qubit_line:1\" d=\"M64,128 L768,128 \" stroke=\"black\"/>\n",
       "<text dominant-baseline=\"central\" text-anchor=\"end\" font-family=\"monospace\" font-size=\"12\" x=\"64\" y=\"128\">q1</text>\n",
       "<path id=\"qubit_line:2\" d=\"M64,192 L768,192 \" stroke=\"black\"/>\n",
       "<text dominant-baseline=\"central\" text-anchor=\"end\" font-family=\"monospace\" font-size=\"12\" x=\"64\" y=\"192\">q2</text>\n",
       "<path id=\"qubit_line:3\" d=\"M64,256 L768,256 \" stroke=\"black\"/>\n",
       "<text dominant-baseline=\"central\" text-anchor=\"end\" font-family=\"monospace\" font-size=\"12\" x=\"64\" y=\"256\">q3</text>\n",
       "<path id=\"qubit_line:4\" d=\"M64,320 L768,320 \" stroke=\"black\"/>\n",
       "<text dominant-baseline=\"central\" text-anchor=\"end\" font-family=\"monospace\" font-size=\"12\" x=\"64\" y=\"320\">q4</text>\n",
       "<path id=\"qubit_line:5\" d=\"M64,384 L768,384 \" stroke=\"black\"/>\n",
       "<text dominant-baseline=\"central\" text-anchor=\"end\" font-family=\"monospace\" font-size=\"12\" x=\"64\" y=\"384\">q5</text>\n",
       "<path id=\"qubit_line:6\" d=\"M64,448 L768,448 \" stroke=\"black\"/>\n",
       "<text dominant-baseline=\"central\" text-anchor=\"end\" font-family=\"monospace\" font-size=\"12\" x=\"64\" y=\"448\">q6</text>\n",
       "<path id=\"qubit_line:7\" d=\"M64,512 L768,512 \" stroke=\"black\"/>\n",
       "<text dominant-baseline=\"central\" text-anchor=\"end\" font-family=\"monospace\" font-size=\"12\" x=\"64\" y=\"512\">q7</text>\n",
       "</g>\n",
       "<rect x=\"80\" y=\"48\" width=\"32\" height=\"32\" stroke=\"black\" fill=\"white\"/>\n",
       "<text dominant-baseline=\"central\" text-anchor=\"middle\" font-family=\"monospace\" font-size=\"30\" x=\"96\" y=\"64\">H</text>\n",
       "<rect x=\"80\" y=\"304\" width=\"32\" height=\"32\" stroke=\"black\" fill=\"white\"/>\n",
       "<text dominant-baseline=\"central\" text-anchor=\"middle\" font-family=\"monospace\" font-size=\"30\" x=\"96\" y=\"320\">H</text>\n",
       "<rect x=\"80\" y=\"432\" width=\"32\" height=\"32\" stroke=\"black\" fill=\"white\"/>\n",
       "<text dominant-baseline=\"central\" text-anchor=\"middle\" font-family=\"monospace\" font-size=\"30\" x=\"96\" y=\"448\">H</text>\n",
       "<path d=\"M160,64 L160,128 \" stroke=\"black\"/>\n",
       "<circle cx=\"160\" cy=\"64\" r=\"12\" stroke=\"none\" fill=\"black\"/>\n",
       "<circle cx=\"160\" cy=\"128\" r=\"12\" stroke=\"black\" fill=\"white\"/>\n",
       "<path d=\"M148,128 L172,128 M160,116 L160,140 \" stroke=\"black\"/>\n",
       "<path d=\"M160,320 L160,384 \" stroke=\"black\"/>\n",
       "<circle cx=\"160\" cy=\"320\" r=\"12\" stroke=\"none\" fill=\"black\"/>\n",
       "<circle cx=\"160\" cy=\"384\" r=\"12\" stroke=\"black\" fill=\"white\"/>\n",
       "<path d=\"M148,384 L172,384 M160,372 L160,396 \" stroke=\"black\"/>\n",
       "<path d=\"M224,256 L224,448 \" stroke=\"black\"/>\n",
       "<circle cx=\"224\" cy=\"448\" r=\"12\" stroke=\"none\" fill=\"black\"/>\n",
       "<circle cx=\"224\" cy=\"256\" r=\"12\" stroke=\"black\" fill=\"white\"/>\n",
       "<path d=\"M212,256 L236,256 M224,244 L224,268 \" stroke=\"black\"/>\n",
       "<path d=\"M288,384 L288,448 \" stroke=\"black\"/>\n",
       "<circle cx=\"288\" cy=\"448\" r=\"12\" stroke=\"none\" fill=\"black\"/>\n",
       "<circle cx=\"288\" cy=\"384\" r=\"12\" stroke=\"black\" fill=\"white\"/>\n",
       "<path d=\"M276,384 L300,384 M288,372 L288,396 \" stroke=\"black\"/>\n",
       "<path d=\"M288,192 L288,320 \" stroke=\"black\"/>\n",
       "<circle cx=\"288\" cy=\"320\" r=\"12\" stroke=\"none\" fill=\"black\"/>\n",
       "<circle cx=\"288\" cy=\"192\" r=\"12\" stroke=\"black\" fill=\"white\"/>\n",
       "<path d=\"M276,192 L300,192 M288,180 L288,204 \" stroke=\"black\"/>\n",
       "<path d=\"M352,64 L352,256 \" stroke=\"black\"/>\n",
       "<circle cx=\"352\" cy=\"64\" r=\"12\" stroke=\"none\" fill=\"black\"/>\n",
       "<circle cx=\"352\" cy=\"256\" r=\"12\" stroke=\"black\" fill=\"white\"/>\n",
       "<path d=\"M340,256 L364,256 M352,244 L352,268 \" stroke=\"black\"/>\n",
       "<path d=\"M416,128 L416,320 \" stroke=\"black\"/>\n",
       "<circle cx=\"416\" cy=\"320\" r=\"12\" stroke=\"none\" fill=\"black\"/>\n",
       "<circle cx=\"416\" cy=\"128\" r=\"12\" stroke=\"black\" fill=\"white\"/>\n",
       "<path d=\"M404,128 L428,128 M416,116 L416,140 \" stroke=\"black\"/>\n",
       "<path d=\"M480,192 L480,256 \" stroke=\"black\"/>\n",
       "<circle cx=\"480\" cy=\"256\" r=\"12\" stroke=\"none\" fill=\"black\"/>\n",
       "<circle cx=\"480\" cy=\"192\" r=\"12\" stroke=\"black\" fill=\"white\"/>\n",
       "<path d=\"M468,192 L492,192 M480,180 L480,204 \" stroke=\"black\"/>\n",
       "<path d=\"M544,128 L544,512 \" stroke=\"black\"/>\n",
       "<circle cx=\"544\" cy=\"128\" r=\"12\" stroke=\"none\" fill=\"black\"/>\n",
       "<circle cx=\"544\" cy=\"512\" r=\"12\" stroke=\"black\" fill=\"white\"/>\n",
       "<path d=\"M532,512 L556,512 M544,500 L544,524 \" stroke=\"black\"/>\n",
       "<path d=\"M608,256 L608,512 \" stroke=\"black\"/>\n",
       "<circle cx=\"608\" cy=\"256\" r=\"12\" stroke=\"none\" fill=\"black\"/>\n",
       "<circle cx=\"608\" cy=\"512\" r=\"12\" stroke=\"black\" fill=\"white\"/>\n",
       "<path d=\"M596,512 L620,512 M608,500 L608,524 \" stroke=\"black\"/>\n",
       "<path d=\"M672,384 L672,512 \" stroke=\"black\"/>\n",
       "<circle cx=\"672\" cy=\"384\" r=\"12\" stroke=\"none\" fill=\"black\"/>\n",
       "<circle cx=\"672\" cy=\"512\" r=\"12\" stroke=\"black\" fill=\"white\"/>\n",
       "<path d=\"M660,512 L684,512 M672,500 L672,524 \" stroke=\"black\"/>\n",
       "<rect x=\"720\" y=\"496\" width=\"32\" height=\"32\" stroke=\"black\" fill=\"black\"/>\n",
       "<text dominant-baseline=\"central\" text-anchor=\"middle\" font-family=\"monospace\" font-size=\"30\" x=\"736\" y=\"512\" fill=\"white\">M</text>\n",
       "<text text-anchor=\"middle\" font-family=\"monospace\" font-size=\"8\" x=\"736\" y=\"492\">rec[0]</text>\n",
       "</svg>"
      ],
      "text/plain": [
       "<svg viewBox=\"0 0 800 608\"  version=\"1.1\" xmlns=\"http://www.w3.org/2000/svg\">\n",
       "<g id=\"qubit_lines\">\n",
       "<path id=\"qubit_line:0\" d=\"M64,64 L768,64 \" stroke=\"black\"/>\n",
       "<text dominant-baseline=\"central\" text-anchor=\"end\" font-family=\"monospace\" font-size=\"12\" x=\"64\" y=\"64\">q0</text>\n",
       "<path id=\"qubit_line:1\" d=\"M64,128 L768,128 \" stroke=\"black\"/>\n",
       "<text dominant-baseline=\"central\" text-anchor=\"end\" font-family=\"monospace\" font-size=\"12\" x=\"64\" y=\"128\">q1</text>\n",
       "<path id=\"qubit_line:2\" d=\"M64,192 L768,192 \" stroke=\"black\"/>\n",
       "<text dominant-baseline=\"central\" text-anchor=\"end\" font-family=\"monospace\" font-size=\"12\" x=\"64\" y=\"192\">q2</text>\n",
       "<path id=\"qubit_line:3\" d=\"M64,256 L768,256 \" stroke=\"black\"/>\n",
       "<text dominant-baseline=\"central\" text-anchor=\"end\" font-family=\"monospace\" font-size=\"12\" x=\"64\" y=\"256\">q3</text>\n",
       "<path id=\"qubit_line:4\" d=\"M64,320 L768,320 \" stroke=\"black\"/>\n",
       "<text dominant-baseline=\"central\" text-anchor=\"end\" font-family=\"monospace\" font-size=\"12\" x=\"64\" y=\"320\">q4</text>\n",
       "<path id=\"qubit_line:5\" d=\"M64,384 L768,384 \" stroke=\"black\"/>\n",
       "<text dominant-baseline=\"central\" text-anchor=\"end\" font-family=\"monospace\" font-size=\"12\" x=\"64\" y=\"384\">q5</text>\n",
       "<path id=\"qubit_line:6\" d=\"M64,448 L768,448 \" stroke=\"black\"/>\n",
       "<text dominant-baseline=\"central\" text-anchor=\"end\" font-family=\"monospace\" font-size=\"12\" x=\"64\" y=\"448\">q6</text>\n",
       "<path id=\"qubit_line:7\" d=\"M64,512 L768,512 \" stroke=\"black\"/>\n",
       "<text dominant-baseline=\"central\" text-anchor=\"end\" font-family=\"monospace\" font-size=\"12\" x=\"64\" y=\"512\">q7</text>\n",
       "</g>\n",
       "<rect x=\"80\" y=\"48\" width=\"32\" height=\"32\" stroke=\"black\" fill=\"white\"/>\n",
       "<text dominant-baseline=\"central\" text-anchor=\"middle\" font-family=\"monospace\" font-size=\"30\" x=\"96\" y=\"64\">H</text>\n",
       "<rect x=\"80\" y=\"304\" width=\"32\" height=\"32\" stroke=\"black\" fill=\"white\"/>\n",
       "<text dominant-baseline=\"central\" text-anchor=\"middle\" font-family=\"monospace\" font-size=\"30\" x=\"96\" y=\"320\">H</text>\n",
       "<rect x=\"80\" y=\"432\" width=\"32\" height=\"32\" stroke=\"black\" fill=\"white\"/>\n",
       "<text dominant-baseline=\"central\" text-anchor=\"middle\" font-family=\"monospace\" font-size=\"30\" x=\"96\" y=\"448\">H</text>\n",
       "<path d=\"M160,64 L160,128 \" stroke=\"black\"/>\n",
       "<circle cx=\"160\" cy=\"64\" r=\"12\" stroke=\"none\" fill=\"black\"/>\n",
       "<circle cx=\"160\" cy=\"128\" r=\"12\" stroke=\"black\" fill=\"white\"/>\n",
       "<path d=\"M148,128 L172,128 M160,116 L160,140 \" stroke=\"black\"/>\n",
       "<path d=\"M160,320 L160,384 \" stroke=\"black\"/>\n",
       "<circle cx=\"160\" cy=\"320\" r=\"12\" stroke=\"none\" fill=\"black\"/>\n",
       "<circle cx=\"160\" cy=\"384\" r=\"12\" stroke=\"black\" fill=\"white\"/>\n",
       "<path d=\"M148,384 L172,384 M160,372 L160,396 \" stroke=\"black\"/>\n",
       "<path d=\"M224,256 L224,448 \" stroke=\"black\"/>\n",
       "<circle cx=\"224\" cy=\"448\" r=\"12\" stroke=\"none\" fill=\"black\"/>\n",
       "<circle cx=\"224\" cy=\"256\" r=\"12\" stroke=\"black\" fill=\"white\"/>\n",
       "<path d=\"M212,256 L236,256 M224,244 L224,268 \" stroke=\"black\"/>\n",
       "<path d=\"M288,384 L288,448 \" stroke=\"black\"/>\n",
       "<circle cx=\"288\" cy=\"448\" r=\"12\" stroke=\"none\" fill=\"black\"/>\n",
       "<circle cx=\"288\" cy=\"384\" r=\"12\" stroke=\"black\" fill=\"white\"/>\n",
       "<path d=\"M276,384 L300,384 M288,372 L288,396 \" stroke=\"black\"/>\n",
       "<path d=\"M288,192 L288,320 \" stroke=\"black\"/>\n",
       "<circle cx=\"288\" cy=\"320\" r=\"12\" stroke=\"none\" fill=\"black\"/>\n",
       "<circle cx=\"288\" cy=\"192\" r=\"12\" stroke=\"black\" fill=\"white\"/>\n",
       "<path d=\"M276,192 L300,192 M288,180 L288,204 \" stroke=\"black\"/>\n",
       "<path d=\"M352,64 L352,256 \" stroke=\"black\"/>\n",
       "<circle cx=\"352\" cy=\"64\" r=\"12\" stroke=\"none\" fill=\"black\"/>\n",
       "<circle cx=\"352\" cy=\"256\" r=\"12\" stroke=\"black\" fill=\"white\"/>\n",
       "<path d=\"M340,256 L364,256 M352,244 L352,268 \" stroke=\"black\"/>\n",
       "<path d=\"M416,128 L416,320 \" stroke=\"black\"/>\n",
       "<circle cx=\"416\" cy=\"320\" r=\"12\" stroke=\"none\" fill=\"black\"/>\n",
       "<circle cx=\"416\" cy=\"128\" r=\"12\" stroke=\"black\" fill=\"white\"/>\n",
       "<path d=\"M404,128 L428,128 M416,116 L416,140 \" stroke=\"black\"/>\n",
       "<path d=\"M480,192 L480,256 \" stroke=\"black\"/>\n",
       "<circle cx=\"480\" cy=\"256\" r=\"12\" stroke=\"none\" fill=\"black\"/>\n",
       "<circle cx=\"480\" cy=\"192\" r=\"12\" stroke=\"black\" fill=\"white\"/>\n",
       "<path d=\"M468,192 L492,192 M480,180 L480,204 \" stroke=\"black\"/>\n",
       "<path d=\"M544,128 L544,512 \" stroke=\"black\"/>\n",
       "<circle cx=\"544\" cy=\"128\" r=\"12\" stroke=\"none\" fill=\"black\"/>\n",
       "<circle cx=\"544\" cy=\"512\" r=\"12\" stroke=\"black\" fill=\"white\"/>\n",
       "<path d=\"M532,512 L556,512 M544,500 L544,524 \" stroke=\"black\"/>\n",
       "<path d=\"M608,256 L608,512 \" stroke=\"black\"/>\n",
       "<circle cx=\"608\" cy=\"256\" r=\"12\" stroke=\"none\" fill=\"black\"/>\n",
       "<circle cx=\"608\" cy=\"512\" r=\"12\" stroke=\"black\" fill=\"white\"/>\n",
       "<path d=\"M596,512 L620,512 M608,500 L608,524 \" stroke=\"black\"/>\n",
       "<path d=\"M672,384 L672,512 \" stroke=\"black\"/>\n",
       "<circle cx=\"672\" cy=\"384\" r=\"12\" stroke=\"none\" fill=\"black\"/>\n",
       "<circle cx=\"672\" cy=\"512\" r=\"12\" stroke=\"black\" fill=\"white\"/>\n",
       "<path d=\"M660,512 L684,512 M672,500 L672,524 \" stroke=\"black\"/>\n",
       "<rect x=\"720\" y=\"496\" width=\"32\" height=\"32\" stroke=\"black\" fill=\"black\"/>\n",
       "<text dominant-baseline=\"central\" text-anchor=\"middle\" font-family=\"monospace\" font-size=\"30\" x=\"736\" y=\"512\" fill=\"white\">M</text>\n",
       "<text text-anchor=\"middle\" font-family=\"monospace\" font-size=\"8\" x=\"736\" y=\"492\">rec[0]</text>\n",
       "</svg>"
      ]
     },
     "execution_count": 26,
     "metadata": {},
     "output_type": "execute_result"
    }
   ],
   "source": [
    "c = stim.Circuit()\n",
    "c += encoding_circuit()\n",
    "c.diagram('timeline-svg')"
   ]
  },
  {
   "cell_type": "code",
   "execution_count": 27,
   "id": "12989820",
   "metadata": {},
   "outputs": [
    {
     "name": "stdout",
     "output_type": "stream",
     "text": [
      "Stabilizers\n"
     ]
    },
    {
     "data": {
      "text/plain": [
       "[stim.PauliString(\"+XXXX____\"),\n",
       " stim.PauliString(\"+ZZ__Z___\"),\n",
       " stim.PauliString(\"+__ZZZ___\"),\n",
       " stim.PauliString(\"+Z__Z__Z_\"),\n",
       " stim.PauliString(\"+_XX_XX__\"),\n",
       " stim.PauliString(\"+____ZZZ_\"),\n",
       " stim.PauliString(\"+__XX_XX_\"),\n",
       " stim.PauliString(\"+_Z_Z_Z_Z\")]"
      ]
     },
     "execution_count": 27,
     "metadata": {},
     "output_type": "execute_result"
    }
   ],
   "source": [
    "t = c.to_tableau(ignore_measurement=True)\n",
    "print(\"Stabilizers\")\n",
    "t.to_stabilizers()"
   ]
  },
  {
   "cell_type": "code",
   "execution_count": 28,
   "id": "542ba799",
   "metadata": {},
   "outputs": [],
   "source": [
    "import numpy as np\n",
    "\n",
    "def measure_logical_qubits(log_qubit_indices: list[int] = [0]) -> stim.Circuit:\n",
    "  c = stim.Circuit()\n",
    "  \n",
    "  for log_qubit_index in log_qubit_indices:\n",
    "    # shift index\n",
    "    s = log_qubit_index * 8\n",
    "    # final measurement\n",
    "    c.append(\"M\", np.array([0,1,2,3,4,5,6]) + s)\n",
    "\n",
    "  return c\n",
    "\n",
    "def sample_from_circuit(c: stim.Circuit, shots: int = 10) -> np.array:\n",
    "  # compile a sampler and sample 10 shots\n",
    "  s = c.compile_sampler()\n",
    "  r = s.sample(shots=shots).astype(int)\n",
    "  \n",
    "  return r"
   ]
  },
  {
   "cell_type": "code",
   "execution_count": 31,
   "id": "f3eecb64",
   "metadata": {},
   "outputs": [
    {
     "name": "stdout",
     "output_type": "stream",
     "text": [
      "Encoding Circuit:\n",
      "H 0 4 6\n",
      "CX 0 1 4 5 6 3 6 5 4 2 0 3 4 1 3 2 1 7 3 7 5 7\n",
      "M 7\n",
      "\n",
      "Measurement Circuit:\n",
      "M 0 1 2 3 4 5 6\n",
      "\n",
      "Full Circuit:\n",
      "H 0 4 6\n",
      "CX 0 1 4 5 6 3 6 5 4 2 0 3 4 1 3 2 1 7 3 7 5 7\n",
      "M 7 0 1 2 3 4 5 6\n",
      "\n",
      "Samples from the circuit (10 shots):\n",
      "[[0 0 1 0 1 1 0 1]\n",
      " [0 1 0 0 1 1 1 0]\n",
      " [0 0 1 0 1 1 0 1]\n",
      " [0 0 1 1 0 1 1 0]\n",
      " [0 0 0 0 0 0 0 0]\n",
      " [0 0 0 0 0 0 0 0]\n",
      " [0 1 0 1 0 1 0 1]\n",
      " [0 0 1 0 1 1 0 1]\n",
      " [0 1 1 1 1 0 0 0]\n",
      " [0 0 0 1 1 0 1 1]]\n"
     ]
    }
   ],
   "source": [
    "# Exercise 3: Encoding and Measuring Logical Qubits\n",
    "\n",
    "# Helper function to encode a logical qubit\n",
    "def encoding_circuit(log_qb_idx: int = 0) -> stim.Circuit:\n",
    "    \"\"\"\n",
    "    Encoding scheme proposed by Goto 2015: https://www.nature.com/articles/srep19578\n",
    "    To prepare the logical Steane qubit in state |0>_L.\n",
    "    \n",
    "    The qubit index allows shifting the indices so that we can prepare multiple logical qubits.\n",
    "    \"\"\"\n",
    "    c = stim.Circuit()\n",
    "    # Shift registers to target logical qubit with given index\n",
    "    s = log_qb_idx * 8\n",
    "    \n",
    "    # Apply gates for encoding\n",
    "    c.append(\"H\", [s, 4 + s, 6 + s])\n",
    "    c.append(\"CNOT\", [s, 1 + s])\n",
    "    c.append(\"CNOT\", [4 + s, 5 + s])\n",
    "    c.append(\"CNOT\", [6 + s, 3 + s])\n",
    "    c.append(\"CNOT\", [6 + s, 5 + s])\n",
    "    c.append(\"CNOT\", [4 + s, 2 + s])\n",
    "    c.append(\"CNOT\", [0 + s, 3 + s])\n",
    "    c.append(\"CNOT\", [4 + s, 1 + s])\n",
    "    c.append(\"CNOT\", [3 + s, 2 + s])\n",
    "    \n",
    "    # Entangle with ancilla qubit and measure logical Pauli-Z\n",
    "    c.append(\"CNOT\", [1 + s, 7 + s])\n",
    "    c.append(\"CNOT\", [3 + s, 7 + s])\n",
    "    c.append(\"CNOT\", [5 + s, 7 + s])\n",
    "    c.append(\"M\", [7 + s])\n",
    "    \n",
    "    return c\n",
    "\n",
    "# Helper function to measure logical qubits\n",
    "def measure_logical_qubits(log_qubit_indices: list[int] = [0]) -> stim.Circuit:\n",
    "    \"\"\"\n",
    "    Measure logical qubits by measuring all physical qubits in the code.\n",
    "    \"\"\"\n",
    "    c = stim.Circuit()\n",
    "    for log_qubit_index in log_qubit_indices:\n",
    "        # Shift index\n",
    "        s = log_qubit_index * 8\n",
    "        # Final measurement\n",
    "        c.append(\"M\", np.array([0, 1, 2, 3, 4, 5, 6]) + s)\n",
    "    return c\n",
    "\n",
    "# Helper function to sample from a circuit\n",
    "def sample_from_circuit(c: stim.Circuit, shots: int = 10) -> np.array:\n",
    "    \"\"\"\n",
    "    Compile a sampler and sample a given number of shots.\n",
    "    \"\"\"\n",
    "    s = c.compile_sampler()\n",
    "    r = s.sample(shots=shots).astype(int)\n",
    "    return r\n",
    "\n",
    "# Part a: Encode a logical qubit in state |0>_L\n",
    "encoding_circ = encoding_circuit(log_qb_idx=0)\n",
    "print(\"Encoding Circuit:\")\n",
    "print(encoding_circ)\n",
    "\n",
    "# Part b: Measure the logical qubit\n",
    "measurement_circ = measure_logical_qubits(log_qubit_indices=[0])\n",
    "print(\"\\nMeasurement Circuit:\")\n",
    "print(measurement_circ)\n",
    "\n",
    "# Combine encoding and measurement circuits\n",
    "full_circuit = encoding_circ + measurement_circ\n",
    "print(\"\\nFull Circuit:\")\n",
    "print(full_circuit)\n",
    "\n",
    "# Part c: Sample the circuit and display results\n",
    "shots = 10\n",
    "samples = sample_from_circuit(full_circuit, shots=shots)\n",
    "print(f\"\\nSamples from the circuit ({shots} shots):\")\n",
    "print(samples)"
   ]
  },
  {
   "cell_type": "code",
   "execution_count": 34,
   "id": "0bffc395",
   "metadata": {},
   "outputs": [
    {
     "name": "stdout",
     "output_type": "stream",
     "text": [
      "Logical measurement output (Z_L): [0 0 0 0 0 0 0 0 0 0]\n"
     ]
    }
   ],
   "source": [
    "# Prepare the circuit\n",
    "c = stim.Circuit()\n",
    "# Prepare |0>_L\n",
    "c += encoding_circuit()\n",
    "# Append final measurement\n",
    "c += measure_logical_qubits()\n",
    "# Sample from the circuit\n",
    "r = sample_from_circuit(c, shots=10)\n",
    "\n",
    "# Compute Z_L observable from measurement\n",
    "# Logical Z_L corresponds to the parity of the first physical qubit\n",
    "logical_measurement_output = r[:, 0]  # Extract the first column (first qubit measurements)\n",
    "\n",
    "# Display the logical measurement output\n",
    "print(\"Logical measurement output (Z_L):\", logical_measurement_output)"
   ]
  },
  {
   "cell_type": "code",
   "execution_count": 37,
   "id": "b35c7aed",
   "metadata": {},
   "outputs": [
    {
     "name": "stdout",
     "output_type": "stream",
     "text": [
      "Ancilla qubit measurement outcome:  [0 0 0 0 0 0 0 0 0 0]\n",
      "Logical qubit measurement outcome:  [[1 1 1 1 0 0 0]\n",
      " [1 0 1 0 1 0 1]\n",
      " [0 0 1 1 0 1 1]\n",
      " [1 0 1 0 1 0 1]\n",
      " [0 1 0 1 1 0 1]\n",
      " [1 1 0 0 0 1 1]\n",
      " [1 1 1 1 0 0 0]\n",
      " [1 0 0 1 1 1 0]\n",
      " [0 1 1 0 1 1 0]\n",
      " [1 0 1 0 1 0 1]]\n"
     ]
    }
   ],
   "source": [
    "print(\"Ancilla qubit measurement outcome: \", r[:,0])\n",
    "# if no noise, we expect all 0s\n",
    "print(\"Logical qubit measurement outcome: \", r[:,1:])\n",
    "\n"
   ]
  },
  {
   "cell_type": "code",
   "execution_count": 38,
   "id": "7de44072",
   "metadata": {},
   "outputs": [
    {
     "name": "stdout",
     "output_type": "stream",
     "text": [
      "H 0\n",
      "X 0\n",
      "S 0 1 2 3 4 5 6\n"
     ]
    }
   ],
   "source": [
    "# Exercise 4: Logical Single-Qubit Gates\n",
    "\n",
    "def logical_single_qubit_gate(gate: str, log_qb_idx: int = 0) -> stim.Circuit:\n",
    "    \"\"\"\n",
    "    Supported logical gates:\n",
    "        - \"Z\": Logical Z gate\n",
    "        - \"X\": Logical X gate\n",
    "        - \"H\": Logical Hadamard gate\n",
    "        - \"S\": Logical S (phase) gate\n",
    "        - \"S_DAG\": Logical S-dagger (inverse phase) gate\n",
    "    \n",
    "    Args:\n",
    "        gate (str): The name of the logical gate to apply. Must be one of: \"Z\", \"X\", \"H\", \"S\", \"S_DAG\".\n",
    "        log_qb_idx (int, optional): Index of the logical qubit to operate on. Defaults to 0.\n",
    "            Each logical qubit uses 8 physical qubits (7 data + 1 ancilla).\n",
    "            \n",
    "    Returns:\n",
    "        stim.Circuit: The circuit with the logical gate applied.\n",
    "    \"\"\"\n",
    "    c = stim.Circuit()\n",
    "    # Shift registers to target logical qubit with given index\n",
    "    s = log_qb_idx * 8\n",
    "    \n",
    "    match gate:\n",
    "        case \"Z\":\n",
    "            # Logical Z gate acts on the first physical qubit\n",
    "            c.append(\"Z\", [0 + s])\n",
    "        case \"X\":\n",
    "            # Logical X gate acts on the first physical qubit\n",
    "            c.append(\"X\", [0 + s])\n",
    "        case \"H\":\n",
    "            # Logical Hadamard gate acts on the first physical qubit\n",
    "            c.append(\"H\", [0 + s])\n",
    "        case \"S\":\n",
    "            # Logical S (phase) gate acts on all physical qubits\n",
    "            c.append(\"S\", np.array([0, 1, 2, 3, 4, 5, 6]) + s)\n",
    "        case \"S_DAG\":\n",
    "            # Logical S-dagger (inverse phase) gate acts on all physical qubits\n",
    "            c.append(\"S_DAG\", np.array([0, 1, 2, 3, 4, 5, 6]) + s)\n",
    "        case _:\n",
    "            raise ValueError(f\"Logical gate name '{gate}' undefined\")\n",
    "\n",
    "    return c\n",
    "\n",
    "# Example usage of logical_single_qubit_gate\n",
    "c = stim.Circuit()\n",
    "c += logical_single_qubit_gate(\"H\", log_qb_idx=0)  # Apply logical Hadamard gate\n",
    "c += logical_single_qubit_gate(\"X\", log_qb_idx=0)  # Apply logical X gate\n",
    "c += logical_single_qubit_gate(\"S\", log_qb_idx=0)  # Apply logical S gate\n",
    "print(c)\n"
   ]
  },
  {
   "cell_type": "code",
   "execution_count": 39,
   "id": "c41cb39d",
   "metadata": {},
   "outputs": [],
   "source": [
    "def prepare_stab_eigenstate(stabilizer: str) -> stim.Circuit:\n",
    "  \"\"\"Generates a circuit preparing the Eigenstate of a given singe-qubit stabilizer\"\"\"\n",
    "  \n",
    "  c = stim.Circuit()\n",
    "  \n",
    "  match stabilizer:\n",
    "    case \"+Z\": # |0>\n",
    "      pass\n",
    "    case \"-Z\": # |1>\n",
    "      c += logical_single_qubit_gate(gate=\"X\")\n",
    "    case \"+X\": # |+>\n",
    "      c += logical_single_qubit_gate(gate=\"H\")\n",
    "    case \"-X\": # |->\n",
    "      c += logical_single_qubit_gate(gate=\"X\")\n",
    "      c += logical_single_qubit_gate(gate=\"H\")\n",
    "    case \"+Y\": # |+i>\n",
    "      c += logical_single_qubit_gate(gate=\"H\")\n",
    "      c += logical_single_qubit_gate(gate=\"S\")\n",
    "    case \"-Y\": # |-i>\n",
    "      c += logical_single_qubit_gate(gate=\"X\")\n",
    "      c += logical_single_qubit_gate(gate=\"H\")\n",
    "      c += logical_single_qubit_gate(gate=\"S\")\n",
    "    case _:\n",
    "      raise ValueError(f\"Unknown stabilizer {stabilizer}\")\n",
    "    \n",
    "  return c"
   ]
  },
  {
   "cell_type": "code",
   "execution_count": 40,
   "id": "cc956bc8",
   "metadata": {},
   "outputs": [
    {
     "name": "stdout",
     "output_type": "stream",
     "text": [
      "Logical bit-flip measurement outcome:  [0 0 0 0 0 0 0 0 0 0]\n"
     ]
    }
   ],
   "source": [
    "c = stim.Circuit()\n",
    "# prepare |0>_L\n",
    "c += encoding_circuit()\n",
    "# apply a bit-flip\n",
    "c += logical_single_qubit_gate(gate=\"X\")\n",
    "# append final measurement\n",
    "c += measure_logical_qubits()\n",
    "# sample from circuit\n",
    "r = sample_from_circuit(c, shots=10)\n",
    "\n",
    "logical_measurement_output = r[:,5] ^ r[:,6] ^ r[:,7]\n",
    "print(\"Logical bit-flip measurement outcome: \", logical_measurement_output)"
   ]
  },
  {
   "cell_type": "code",
   "execution_count": 41,
   "id": "156e34e1",
   "metadata": {},
   "outputs": [
    {
     "name": "stdout",
     "output_type": "stream",
     "text": [
      "Logical Hadamard measurement outcome:  [0 0 0 0 0 0 0 0 0 0 0 0 0 0 0 0 0 0 0 0]\n"
     ]
    }
   ],
   "source": [
    "c = stim.Circuit()\n",
    "# prepare |0>_L\n",
    "c += encoding_circuit()\n",
    "# apply a logical Hadamard gate\n",
    "c += prepare_stab_eigenstate(\"-Z\")\n",
    "# append final measurement\n",
    "c += measure_logical_qubits()\n",
    "# sample from circuit\n",
    "r = sample_from_circuit(c, shots=20)\n",
    "\n",
    "# compute Z_L observable from measurement\n",
    "logical_measurement_output = r[:,5] ^ r[:,6] ^ r[:,7]\n",
    "print(\"Logical Hadamard measurement outcome: \", logical_measurement_output)"
   ]
  },
  {
   "cell_type": "code",
   "execution_count": 42,
   "id": "c29736f4",
   "metadata": {},
   "outputs": [
    {
     "name": "stdout",
     "output_type": "stream",
     "text": [
      "Logical bit-flip measurement outcome:  [0 0 0 0 0 0 0 0 0 0 0 0 0 0 0 0 0 0 0 0]\n"
     ]
    }
   ],
   "source": [
    "c = stim.Circuit()\n",
    "# prepare |0>_L\n",
    "c += encoding_circuit()\n",
    "# apply a logical X by using logical HZH construction\n",
    "c += logical_single_qubit_gate(gate=\"H\")\n",
    "c += logical_single_qubit_gate(gate=\"Z\")\n",
    "c += logical_single_qubit_gate(gate=\"H\")\n",
    "# append final measurement\n",
    "c += measure_logical_qubits()\n",
    "# sample from circuit\n",
    "r = sample_from_circuit(c, shots=20)\n",
    "\n",
    "# compute Z_L observable from measurement\n",
    "logical_measurement_output = r[:,5] ^ r[:,6] ^ r[:,7]\n",
    "print(\"Logical bit-flip measurement outcome: \", logical_measurement_output)"
   ]
  },
  {
   "cell_type": "code",
   "execution_count": 43,
   "id": "a08c5fb2",
   "metadata": {},
   "outputs": [
    {
     "name": "stdout",
     "output_type": "stream",
     "text": [
      "Logical bit-flip measurement outcome:  [0 0 0 0 0 0 0 0 0 0]\n"
     ]
    }
   ],
   "source": [
    "# Exercise 5: Measuring in Different Basis\n",
    "\n",
    "def rotate_to_measurement_basis(meas_basis: str) -> stim.Circuit:\n",
    "    \"\"\"\n",
    "    Appends single-qubit rotations to a circuit to prepare measurement in the specified basis.\n",
    "\n",
    "    Args:\n",
    "        meas_basis (str): The target measurement basis. Must be one of \"Z\", \"X\", or \"Y\".\n",
    "\n",
    "    Returns:\n",
    "        stim.Circuit: The circuit with the rotations applied for the specified measurement basis.\n",
    "    \"\"\"\n",
    "    c = stim.Circuit()\n",
    "    \n",
    "    match meas_basis:\n",
    "        case \"Z\":\n",
    "            # No rotation needed for Z-basis\n",
    "            pass\n",
    "        case \"X\":\n",
    "            # Rotate to X-basis using a Hadamard gate\n",
    "            c += logical_single_qubit_gate(gate=\"H\")\n",
    "        case \"Y\":\n",
    "            # Rotate to Y-basis using S-dagger and Hadamard gates\n",
    "            c += logical_single_qubit_gate(gate=\"S_DAG\")\n",
    "            c += logical_single_qubit_gate(gate=\"H\")\n",
    "        case _:\n",
    "            raise ValueError(\"Specified target basis not known\")\n",
    "    \n",
    "    return c\n",
    "\n",
    "# Prepare the circuit\n",
    "c = stim.Circuit()\n",
    "# Prepare |0>_L\n",
    "c += encoding_circuit()\n",
    "# Rotate to X-basis\n",
    "c += rotate_to_measurement_basis(meas_basis=\"X\")\n",
    "# Append final measurement\n",
    "c += measure_logical_qubits()\n",
    "# Sample from the circuit\n",
    "r = sample_from_circuit(c, shots=10)\n",
    "\n",
    "# Compute Z_L observable from measurement\n",
    "logical_measurement_output = r[:, 5] ^ r[:, 6] ^ r[:, 7]\n",
    "print(\"Logical bit-flip measurement outcome: \", logical_measurement_output)"
   ]
  },
  {
   "cell_type": "code",
   "execution_count": null,
   "id": "194d6ef9",
   "metadata": {},
   "outputs": [],
   "source": [
    "# Exercise 5: to be continued\n"
   ]
  }
 ],
 "metadata": {
  "kernelspec": {
   "display_name": "base",
   "language": "python",
   "name": "python3"
  },
  "language_info": {
   "codemirror_mode": {
    "name": "ipython",
    "version": 3
   },
   "file_extension": ".py",
   "mimetype": "text/x-python",
   "name": "python",
   "nbconvert_exporter": "python",
   "pygments_lexer": "ipython3",
   "version": "3.12.4"
  }
 },
 "nbformat": 4,
 "nbformat_minor": 5
}
