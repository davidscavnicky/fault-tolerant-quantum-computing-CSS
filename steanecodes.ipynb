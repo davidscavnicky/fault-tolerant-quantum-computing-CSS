{
 "cells": [
  {
   "cell_type": "code",
   "execution_count": null,
   "id": "fc43f155",
   "metadata": {},
   "outputs": [
    {
     "name": "stdout",
     "output_type": "stream",
     "text": [
      "Stabilizers:\n",
      "IIIXXXX\n",
      "IXXIXXI\n",
      "XXIXXII\n",
      "IIIZZZZ\n",
      "IZZIZZI\n",
      "ZZIZZII\n",
      "\n",
      "Commutation check:\n",
      "Stabilizer 1 and 2 commute: True\n",
      "Stabilizer 1 and 3 commute: True\n",
      "Stabilizer 1 and 4 commute: True\n",
      "Stabilizer 1 and 5 commute: True\n",
      "Stabilizer 1 and 6 commute: True\n",
      "Stabilizer 2 and 3 commute: True\n",
      "Stabilizer 2 and 4 commute: True\n",
      "Stabilizer 2 and 5 commute: True\n",
      "Stabilizer 2 and 6 commute: True\n",
      "Stabilizer 3 and 4 commute: True\n",
      "Stabilizer 3 and 5 commute: True\n",
      "Stabilizer 3 and 6 commute: True\n",
      "Stabilizer 4 and 5 commute: True\n",
      "Stabilizer 4 and 6 commute: True\n",
      "Stabilizer 5 and 6 commute: True\n"
     ]
    }
   ],
   "source": [
    "from qiskit.quantum_info import *  # Import all quantum information tools\n",
    "from qiskit.quantum_info import PauliList  # Use PauliList instead of StabilizerTable\n",
    "import numpy as np\n",
    "\n",
    "\"\"\" Defines the Steane code parity-check matrix.\n",
    "Creates X- and Z-type stabilizers from it.\n",
    "Constructs the Qiskit StabilizerTable from those stabilizers.\n",
    "Prints each stabilizer and checks pairwise commutation. \"\"\"\n",
    "\n",
    "# Define the parity check matrix H (for Steane code)\n",
    "H = np.array([\n",
    "    [1, 1, 1, 1, 0, 0, 0],\n",
    "    [0, 1, 1, 0, 1, 1, 0],\n",
    "    [0, 0, 1, 1, 0, 1, 1]\n",
    "])\n",
    "\n",
    "# Function to convert binary row into Pauli string\n",
    "def make_stabilizer(row, pauli_type='X'):\n",
    "    n = len(row)\n",
    "    z = [0] * n\n",
    "    x = [0] * n\n",
    "    for i in range(n):\n",
    "        if row[i] == 1:\n",
    "            if pauli_type == 'X':\n",
    "                x[i] = 1\n",
    "            elif pauli_type == 'Z':\n",
    "                z[i] = 1\n",
    "    return Pauli((z, x))\n",
    "\n",
    "# Generate stabilizers\n",
    "x_stabilizers = [make_stabilizer(row, 'X') for row in H]\n",
    "z_stabilizers = [make_stabilizer(row, 'Z') for row in H]\n",
    "\n",
    "# Combine all stabilizers\n",
    "all_stabilizers = x_stabilizers + z_stabilizers\n",
    "\n",
    "# Create stabilizer table using PauliList\n",
    "stab_table = PauliList(all_stabilizers)\n",
    "\n",
    "# Print all stabilizers\n",
    "print(\"Stabilizers:\")\n",
    "for stab in stab_table:\n",
    "    print(stab)\n",
    "\n",
    "# Check commutation\n",
    "print(\"\\nCommutation check:\")\n",
    "n = len(all_stabilizers)\n",
    "for i in range(n):\n",
    "    for j in range(i + 1, n):\n",
    "        commute = stab_table[i].commutes(stab_table[j])  # Check commutation using PauliList\n",
    "        print(f\"Stabilizer {i+1} and {j+1} commute: {commute}\")\n"
   ]
  },
  {
   "cell_type": "code",
   "execution_count": null,
   "id": "321aac51",
   "metadata": {},
   "outputs": [],
   "source": []
  }
 ],
 "metadata": {
  "kernelspec": {
   "display_name": "base",
   "language": "python",
   "name": "python3"
  },
  "language_info": {
   "codemirror_mode": {
    "name": "ipython",
    "version": 3
   },
   "file_extension": ".py",
   "mimetype": "text/x-python",
   "name": "python",
   "nbconvert_exporter": "python",
   "pygments_lexer": "ipython3",
   "version": "3.12.4"
  }
 },
 "nbformat": 4,
 "nbformat_minor": 5
}
